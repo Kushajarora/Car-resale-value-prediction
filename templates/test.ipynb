{
 "cells": [
  {
   "cell_type": "code",
   "execution_count": 7,
   "id": "429c3cb0",
   "metadata": {},
   "outputs": [
    {
     "name": "stdout",
     "output_type": "stream",
     "text": [
      "[7.949976]\n"
     ]
    }
   ],
   "source": [
    "import numpy as np\n",
    "import pandas as pd\n",
    "import matplotlib.pyplot as plt\n",
    "import xgboost\n",
    "from sklearn.model_selection import RandomizedSearchCV\n",
    "from sklearn.preprocessing import LabelEncoder\n",
    "regressor=xgboost.XGBRegressor()\n",
    "\n",
    "def car_predictions(Present_price, kms, Fuel, Seller, Transmission, Owner, Age):\n",
    "    car_data=pd.read_csv('car data.csv')\n",
    "    lb=LabelEncoder()\n",
    "    car_data['Fuel_Type']=lb.fit_transform(car_data['Fuel_Type'])\n",
    "    car_data['Seller_Type']=lb.fit_transform(car_data['Seller_Type'])\n",
    "    car_data['Transmission']=lb.fit_transform(car_data['Transmission'])\n",
    "    car_data['Vehicle_Age']=2020- car_data['Year']\n",
    "    car_data.drop(['Year'],axis=1,inplace=True)\n",
    "    \n",
    "    x=car_data.drop(columns=['Selling_Price','Car_Name','company'],axis=1)\n",
    "    y=car_data['Selling_Price']\n",
    "    from sklearn.model_selection import train_test_split\n",
    "    X_train,X_test,y_train,y_test=train_test_split(x,y,test_size=0.2,random_state=20)\n",
    "\n",
    "    # reinitializing the regressor object with the best probable estimators\n",
    "    regressor=xgboost.XGBRegressor(base_score=0.5, booster='gbtree', colsample_bylevel=1,\n",
    "                colsample_bynode=1, colsample_bytree=1, gamma=0, gpu_id=-1,\n",
    "                importance_type=None, interaction_constraints='',\n",
    "                learning_rate=0.15, max_delta_step=0, max_depth=15,\n",
    "                min_child_weight=3, missing=np.nan, monotone_constraints='()',\n",
    "                n_estimators=1500, n_jobs=12, num_parallel_tree=1, random_state=0,\n",
    "                reg_alpha=0, reg_lambda=1, scale_pos_weight=1, subsample=1,\n",
    "                tree_method='exact', validate_parameters=1, verbosity=None)\n",
    "    # fitting the xgbRegressor on our training data\n",
    "    regressor.fit(X_train,y_train)\n",
    "    x_car_test=np.array([Present_price, kms, Fuel, Seller, Transmission, Owner,Age])\n",
    "    x_car_test=x_car_test.reshape((1,7))\n",
    "    predictions=regressor.predict(x_car_test)\n",
    "    # fetching the predictions on our test data\n",
    "    return predictions\n",
    "print(car_predictions(12.27,89000,2,0,0,0,4))"
   ]
  },
  {
   "cell_type": "code",
   "execution_count": null,
   "id": "d3322f23",
   "metadata": {},
   "outputs": [],
   "source": []
  }
 ],
 "metadata": {
  "kernelspec": {
   "display_name": "Python 3 (ipykernel)",
   "language": "python",
   "name": "python3"
  },
  "language_info": {
   "codemirror_mode": {
    "name": "ipython",
    "version": 3
   },
   "file_extension": ".py",
   "mimetype": "text/x-python",
   "name": "python",
   "nbconvert_exporter": "python",
   "pygments_lexer": "ipython3",
   "version": "3.7.11"
  }
 },
 "nbformat": 4,
 "nbformat_minor": 5
}
